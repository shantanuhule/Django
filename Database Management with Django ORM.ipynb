{
 "cells": [
  {
   "cell_type": "markdown",
   "id": "27a55050-ff31-46f8-bc3f-036771b54362",
   "metadata": {},
   "source": [
    "Database management with Django ORM is a powerful feature that allows you to interact with databases using Python code without writing raw SQL. \n",
    "\n",
    "Here's a detailed guide to managing databases in Django using its ORM:"
   ]
  },
  {
   "cell_type": "markdown",
   "id": "ba60391c-beb2-4830-91c8-a6e914d39127",
   "metadata": {},
   "source": [
    "## Defining Models\n",
    "\n",
    "Models in Django define the structure of your database tables. Each model corresponds to a table in the database."
   ]
  },
  {
   "cell_type": "code",
   "execution_count": null,
   "id": "2aecf53e-7b9f-487c-9d70-1ed73b4f6c0c",
   "metadata": {},
   "outputs": [],
   "source": [
    "# models.py\n",
    "\n",
    "from django.db import models\n",
    "\n",
    "class Author(models.Model):\n",
    "    name = models.CharField(max_length=100)\n",
    "    email = models.EmailField(unique=True)\n",
    "\n",
    "class Book(models.Model):\n",
    "    title = models.CharField(max_length=200)\n",
    "    published_date = models.DateField()\n",
    "    author = models.ForeignKey(Author, on_delete=models.CASCADE)\n",
    "    price = models.DecimalField(max_digits=6, decimal_places=2)\n"
   ]
  },
  {
   "cell_type": "markdown",
   "id": "5f20e821-44e2-4563-94bd-fc6edd357cf7",
   "metadata": {},
   "source": [
    "Key Points:\n",
    "\n",
    "Each field represents a column in the table.\n",
    "\n",
    "Field types (e.g., CharField, EmailField, DecimalField) determine the type of data stored.\n",
    "\n",
    "Relationships:\n",
    "ForeignKey (many-to-one): Links Book to Author.\n",
    "\n",
    "on_delete=models.CASCADE: Deletes books if the author is deleted."
   ]
  },
  {
   "cell_type": "markdown",
   "id": "b99e8b37-bbfa-4ef6-ad16-bbd176f7582b",
   "metadata": {},
   "source": [
    "## Migrations:\n",
    "\n",
    "\n",
    "Migrations are used to apply changes to the database schema.\n",
    "\n",
    "Steps:\n",
    "CreateMigrations:    **python manage.py makemigrations**\n",
    "\n",
    "-- This generates migration files based on your model changes.\n",
    "\n",
    "Apply Migrations:    **python manage.py migrate**\n",
    "\n",
    "-- This applies the migration files to the database and creates/updates tables.\n",
    "\n",
    "Check Migration Status:  **python manage.py showmigrations**\n",
    "\n",
    "\n"
   ]
  },
  {
   "cell_type": "code",
   "execution_count": null,
   "id": "e189c189-1235-46d7-829e-edef5a1cf31f",
   "metadata": {},
   "outputs": [],
   "source": [
    "python manage.py makemigrations\n",
    "\n",
    "python manage.py migrate\n",
    "\n",
    "python manage.py showmigrations"
   ]
  },
  {
   "cell_type": "markdown",
   "id": "c0fe4736-9fad-48c6-bcb8-928112b7cd8d",
   "metadata": {},
   "source": [
    "## Querying the Database\n",
    "Django ORM uses querysets to retrieve data from the database.\n",
    "\n",
    "### Examples:"
   ]
  },
  {
   "cell_type": "code",
   "execution_count": null,
   "id": "60792b32-87a0-4ce9-8774-d0c43b0e08d9",
   "metadata": {},
   "outputs": [],
   "source": [
    "# Insert a new author\n",
    "author = Author(name=\"Jane Austen\", email=\"jane.austen@example.com\")\n",
    "author.save()\n",
    "\n",
    "# Insert a new book\n",
    "book = Book(title=\"Pride and Prejudice\", published_date=\"1813-01-28\", author=author, price=29.99)\n",
    "book.save()\n"
   ]
  },
  {
   "cell_type": "markdown",
   "id": "3b22b6dd-8cc4-4b4a-9ade-3d4cc9476a4e",
   "metadata": {},
   "source": [
    "### Fetching Data:"
   ]
  },
  {
   "cell_type": "code",
   "execution_count": null,
   "id": "4b2d3b10-3062-4bb3-a36a-3fa15d71cc93",
   "metadata": {},
   "outputs": [],
   "source": [
    "# Get all authors\n",
    "authors = Author.objects.all()\n",
    "\n",
    "# Filter books by price\n",
    "expensive_books = Book.objects.filter(price__gt=20.00)\n",
    "\n",
    "# Get a single object by ID\n",
    "author = Author.objects.get(id=1)\n",
    "\n",
    "# Fetch related objects\n",
    "books_by_author = author.book_set.all()  # Access related books using the reverse relationship\n"
   ]
  },
  {
   "cell_type": "markdown",
   "id": "06ca550a-076d-4ef4-8a29-a5473e7cb050",
   "metadata": {},
   "source": [
    "### Updating Data:"
   ]
  },
  {
   "cell_type": "code",
   "execution_count": null,
   "id": "aa437868-204f-4769-9f6f-6e480bd6407b",
   "metadata": {},
   "outputs": [],
   "source": [
    "# Update an author's email\n",
    "author = Author.objects.get(id=1)\n",
    "author.email = \"new.email@example.com\"\n",
    "author.save()\n"
   ]
  },
  {
   "cell_type": "markdown",
   "id": "f4c26807-5aba-4ad1-9ebb-547a1f3d2888",
   "metadata": {},
   "source": [
    "### Deleting Data:\n"
   ]
  },
  {
   "cell_type": "code",
   "execution_count": null,
   "id": "8d213a7a-ff1b-4fb2-8842-e432f5bdb22d",
   "metadata": {},
   "outputs": [],
   "source": [
    "# Delete a book\n",
    "book = Book.objects.get(id=1)\n",
    "book.delete()\n"
   ]
  },
  {
   "cell_type": "markdown",
   "id": "371703fd-812e-4aab-a9ea-0658dba073be",
   "metadata": {},
   "source": [
    "### Advanced Querying:\n",
    "\n",
    "a) Filtering:"
   ]
  },
  {
   "cell_type": "code",
   "execution_count": null,
   "id": "54a9f249-4d29-4a42-a3a0-bbf57028e4bb",
   "metadata": {},
   "outputs": [],
   "source": [
    "# Books published in 2020\n",
    "books_2020 = Book.objects.filter(published_date__year=2020)\n",
    "\n",
    "# Authors whose name contains \"Jane\"\n",
    "authors_named_jane = Author.objects.filter(name__icontains=\"Jane\")\n"
   ]
  },
  {
   "cell_type": "markdown",
   "id": "4cf69585-f716-4b37-852a-3f9691b4ef8d",
   "metadata": {},
   "source": [
    "b) Aggregation:"
   ]
  },
  {
   "cell_type": "code",
   "execution_count": null,
   "id": "52e7ee48-62d3-40fd-a972-c8d59685b894",
   "metadata": {},
   "outputs": [],
   "source": [
    "from django.db.models import Avg, Count, Max, Min\n",
    "\n",
    "# Average price of all books\n",
    "average_price = Book.objects.aggregate(Avg('price'))\n",
    "\n",
    "# Total number of books\n",
    "total_books = Book.objects.aggregate(Count('id'))\n"
   ]
  },
  {
   "cell_type": "markdown",
   "id": "f244340c-0411-4872-938b-b4e527237758",
   "metadata": {},
   "source": [
    "c) Ordering:"
   ]
  },
  {
   "cell_type": "code",
   "execution_count": null,
   "id": "6f35bf57-ebc0-42e2-9689-4b672ea2f20e",
   "metadata": {},
   "outputs": [],
   "source": [
    "# Order books by price (ascending)\n",
    "books_by_price = Book.objects.order_by('price')\n",
    "\n",
    "# Order by price (descending)\n",
    "books_by_price_desc = Book.objects.order_by('-price')\n"
   ]
  },
  {
   "cell_type": "markdown",
   "id": "5f401957-489d-4e84-8dba-1d85806740c8",
   "metadata": {},
   "source": [
    "## Relationships and Joins:\n",
    "\n",
    "a) One-to-Many (ForeignKey):"
   ]
  },
  {
   "cell_type": "code",
   "execution_count": null,
   "id": "2ebc1de5-f622-4ac3-9d4a-8dd5dce34610",
   "metadata": {},
   "outputs": [],
   "source": [
    "# Fetch all books by a specific author\n",
    "jane_books = Book.objects.filter(author__name=\"Jane Austen\")\n"
   ]
  },
  {
   "cell_type": "markdown",
   "id": "de9f07a4-d1fb-406b-985b-b9a41b9e2d14",
   "metadata": {},
   "source": [
    "b) Many-to-Many:\n"
   ]
  },
  {
   "cell_type": "code",
   "execution_count": null,
   "id": "3b794034-74e4-433b-aa1a-fb5177886ef9",
   "metadata": {},
   "outputs": [],
   "source": [
    "# models.py\n",
    "\n",
    "class Category(models.Model):\n",
    "    name = models.CharField(max_length=100)\n",
    "\n",
    "class Book(models.Model):\n",
    "    title = models.CharField(max_length=200)\n",
    "    categories = models.ManyToManyField(Category)\n",
    "\n",
    "# Assigning categories to a book\n",
    "fiction = Category.objects.create(name=\"Fiction\")\n",
    "romance = Category.objects.create(name=\"Romance\")\n",
    "\n",
    "book = Book.objects.create(title=\"Emma\")\n",
    "book.categories.add(fiction, romance)\n"
   ]
  },
  {
   "cell_type": "markdown",
   "id": "32e83ec7-caf0-417d-b64f-2681f1946ec5",
   "metadata": {},
   "source": [
    "c) Prefetch and Select Related:\n",
    "\n",
    "To optimize queries and reduce database hits:"
   ]
  },
  {
   "cell_type": "code",
   "execution_count": null,
   "id": "a8ac6884-6736-4c4c-ac8b-f33f33d830b6",
   "metadata": {},
   "outputs": [],
   "source": [
    "# Fetch books with authors (joins)\n",
    "books = Book.objects.select_related('author')\n",
    "\n",
    "# Fetch books with categories (many-to-many relationships)\n",
    "books = Book.objects.prefetch_related('categories')\n"
   ]
  },
  {
   "cell_type": "markdown",
   "id": "61e82927-ef08-40d9-a7f8-b27d88419d4c",
   "metadata": {},
   "source": [
    "### Raw SQL (If Needed)\n",
    "In some cases, you might want to execute raw SQL queries:"
   ]
  },
  {
   "cell_type": "code",
   "execution_count": null,
   "id": "48ab57ff-ed3e-45c2-b517-9d70679ff744",
   "metadata": {},
   "outputs": [],
   "source": [
    "from django.db import connection\n",
    "\n",
    "with connection.cursor() as cursor:\n",
    "    cursor.execute(\"SELECT * FROM book WHERE price > %s\", [20])\n",
    "    rows = cursor.fetchall()\n"
   ]
  },
  {
   "cell_type": "markdown",
   "id": "b37f1059-9b94-4a55-98a1-cb6aecd175c8",
   "metadata": {},
   "source": [
    "### Custom QuerySets\n",
    "Define custom methods for querying:"
   ]
  },
  {
   "cell_type": "code",
   "execution_count": null,
   "id": "83d16536-518f-4b7b-9a5d-8bf2becfbd40",
   "metadata": {},
   "outputs": [],
   "source": [
    "# models.py\n",
    "\n",
    "class BookQuerySet(models.QuerySet):\n",
    "    def expensive(self):\n",
    "        return self.filter(price__gt=50)\n",
    "\n",
    "class Book(models.Model):\n",
    "    title = models.CharField(max_length=200)\n",
    "    price = models.DecimalField(max_digits=6, decimal_places=2)\n",
    "    objects = BookQuerySet.as_manager()\n",
    "\n",
    "# Usage\n",
    "expensive_books = Book.objects.expensive()\n"
   ]
  },
  {
   "cell_type": "markdown",
   "id": "a645a952-5eda-489a-a667-7e9ac8cff90c",
   "metadata": {},
   "source": [
    "### Transactions\n",
    "Django supports atomic transactions:"
   ]
  },
  {
   "cell_type": "code",
   "execution_count": null,
   "id": "dc6649aa-54f6-4eca-92bd-b40325dab719",
   "metadata": {},
   "outputs": [],
   "source": [
    "from django.db import transaction\n",
    "\n",
    "try:\n",
    "    with transaction.atomic():\n",
    "        author = Author.objects.create(name=\"Charles Dickens\", email=\"charles.d@example.com\")\n",
    "        Book.objects.create(title=\"Great Expectations\", author=author, price=19.99)\n",
    "except Exception as e:\n",
    "    print(\"Transaction failed:\", e)\n"
   ]
  },
  {
   "cell_type": "markdown",
   "id": "88cb5192-7973-4d8a-b1b7-a33f399ff408",
   "metadata": {},
   "source": [
    "Summary:\n",
    "Define Models: Use Django's ORM to represent database tables.\n",
    "\n",
    "Migrate Changes: Sync models with the database using migrations.\n",
    "\n",
    "Query Data: Use QuerySet for CRUD operations.\n",
    "\n",
    "Optimize Queries: Use select_related, prefetch_related, and aggregation functions.\n",
    "\n",
    "Leverage Relationships: Use Django ORM to handle relationships naturally.\n",
    "\n",
    "By mastering these concepts, you'll effectively manage databases in Django applications. Practice with small projects to reinforce your understanding.    "
   ]
  },
  {
   "cell_type": "code",
   "execution_count": null,
   "id": "d36c529a-a44b-4644-847e-0a420207645d",
   "metadata": {},
   "outputs": [],
   "source": []
  }
 ],
 "metadata": {
  "kernelspec": {
   "display_name": "Python 3 (ipykernel)",
   "language": "python",
   "name": "python3"
  },
  "language_info": {
   "codemirror_mode": {
    "name": "ipython",
    "version": 3
   },
   "file_extension": ".py",
   "mimetype": "text/x-python",
   "name": "python",
   "nbconvert_exporter": "python",
   "pygments_lexer": "ipython3",
   "version": "3.12.2"
  }
 },
 "nbformat": 4,
 "nbformat_minor": 5
}

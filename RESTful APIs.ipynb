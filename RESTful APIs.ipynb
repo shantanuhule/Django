{
 "cells": [
  {
   "cell_type": "markdown",
   "id": "96e06989-ed56-4392-a69b-5dafe58d18cf",
   "metadata": {},
   "source": [
    "# RESTful APIs"
   ]
  },
  {
   "cell_type": "markdown",
   "id": "b013dc2c-ba54-4481-825c-7ec2a7e749c4",
   "metadata": {},
   "source": [
    "Creating RESTful APIs with Django is a powerful way to build backend services that can interact with various frontends, mobile applications, or other systems. Django REST framework (DRF) is the most widely used library for creating REST APIs in Django."
   ]
  },
  {
   "cell_type": "markdown",
   "id": "1ea7523b-bf55-4e4d-8a5d-e8771efcea3c",
   "metadata": {},
   "source": [
    "### 1. What is REST?\n",
    "REST (Representational State Transfer) is an architectural style for designing networked applications.\n",
    "\n",
    "\n",
    "It uses standard HTTP methods like GET, POST, PUT, PATCH, and DELETE to interact with resources.\n",
    "#### Key Concepts:\n",
    "Resources: Represented as data objects (e.g., a user or a product).\n",
    "\n",
    "Statelessness: Each request is independent and does not rely on server-side sessions.\n",
    "\n",
    "JSON: Common format for data exchange."
   ]
  },
  {
   "cell_type": "markdown",
   "id": "53c3ec0c-d4ab-40db-bc01-df62b382890e",
   "metadata": {},
   "source": [
    "### 2. Setting Up Django REST Framework (DRF)\n",
    "Install DRF:"
   ]
  },
  {
   "cell_type": "code",
   "execution_count": null,
   "id": "64025a69-76ce-4c39-8b1c-4b6d487493e4",
   "metadata": {},
   "outputs": [],
   "source": [
    "pip install djangorestframework"
   ]
  },
  {
   "cell_type": "code",
   "execution_count": null,
   "id": "723439ab-5dda-47d3-ab44-53bcee38e47b",
   "metadata": {},
   "outputs": [],
   "source": [
    "# settings.py\n",
    "INSTALLED_APPS = [\n",
    "    'rest_framework',\n",
    "    'your_app_name',  # Your Django app\n",
    "]\n"
   ]
  },
  {
   "cell_type": "markdown",
   "id": "d44cb60b-903b-4281-9dd6-87ceb3b6afee",
   "metadata": {},
   "source": [
    "### 3. Creating a Basic API\n",
    "Example: Building an API for a Book Resource\n",
    "\n",
    "Define the Model:"
   ]
  },
  {
   "cell_type": "code",
   "execution_count": null,
   "id": "27f1aa00-db9c-455b-8676-f66bb5b7c392",
   "metadata": {},
   "outputs": [],
   "source": [
    "# models.py\n",
    "from django.db import models\n",
    "\n",
    "class Book(models.Model):\n",
    "    title = models.CharField(max_length=100)\n",
    "    author = models.CharField(max_length=100)\n",
    "    published_date = models.DateField()\n",
    "    isbn = models.CharField(max_length=13, unique=True)\n",
    "\n",
    "    def __str__(self):\n",
    "        return self.title\n",
    "\n"
   ]
  },
  {
   "cell_type": "markdown",
   "id": "51712a26-cd2c-4af5-98de-48ebb9eee476",
   "metadata": {},
   "source": [
    "### Create a Serializer:\n",
    "Serializers convert complex data types (e.g., model instances) into JSON and vice versa"
   ]
  },
  {
   "cell_type": "code",
   "execution_count": null,
   "id": "2ad5c0ab-37fa-4601-84d4-2097e1f310db",
   "metadata": {},
   "outputs": [],
   "source": [
    "# serializers.py\n",
    "from rest_framework import serializers\n",
    "from .models import Book\n",
    "\n",
    "class BookSerializer(serializers.ModelSerializer):\n",
    "    class Meta:\n",
    "        model = Book\n",
    "        fields = '__all__'\n"
   ]
  },
  {
   "cell_type": "markdown",
   "id": "4f510a54-1e66-4752-bb2f-422413d40d69",
   "metadata": {},
   "source": [
    "### Create API Views:\n",
    "You can use DRF's function-based views (FBVs) or class-based views (CBVs).\n",
    "\n",
    "a) Function-Based Views (FBVs):"
   ]
  },
  {
   "cell_type": "code",
   "execution_count": null,
   "id": "2732c0a8-a22d-4638-973d-149d10b1dcad",
   "metadata": {},
   "outputs": [],
   "source": [
    "# views.py\n",
    "from rest_framework.decorators import api_view\n",
    "from rest_framework.response import Response\n",
    "from rest_framework import status\n",
    "from .models import Book\n",
    "from .serializers import BookSerializer\n",
    "\n",
    "@api_view(['GET', 'POST'])\n",
    "def book_list(request):\n",
    "    if request.method == 'GET':\n",
    "        books = Book.objects.all()\n",
    "        serializer = BookSerializer(books, many=True)\n",
    "        return Response(serializer.data)\n",
    "\n",
    "    elif request.method == 'POST':\n",
    "        serializer = BookSerializer(data=request.data)\n",
    "        if serializer.is_valid():\n",
    "            serializer.save()\n",
    "            return Response(serializer.data, status=status.HTTP_201_CREATED)\n",
    "        return Response(serializer.errors, status=status.HTTP_400_BAD_REQUEST)\n",
    "\n",
    "@api_view(['GET', 'PUT', 'DELETE'])\n",
    "def book_detail(request, pk):\n",
    "    try:\n",
    "        book = Book.objects.get(pk=pk)\n",
    "    except Book.DoesNotExist:\n",
    "        return Response(status=status.HTTP_404_NOT_FOUND)\n",
    "\n",
    "    if request.method == 'GET':\n",
    "        serializer = BookSerializer(book)\n",
    "        return Response(serializer.data)\n",
    "\n",
    "    elif request.method == 'PUT':\n",
    "        serializer = BookSerializer(book, data=request.data)\n",
    "        if serializer.is_valid():\n",
    "            serializer.save()\n",
    "            return Response(serializer.data)\n",
    "        return Response(serializer.errors, status=status.HTTP_400_BAD_REQUEST)\n",
    "\n",
    "    elif request.method == 'DELETE':\n",
    "        book.delete()\n",
    "        return Response(status=status.HTTP_204_NO_CONTENT)\n"
   ]
  },
  {
   "cell_type": "markdown",
   "id": "f7564bd8-f230-44f5-a9f1-1525adddace0",
   "metadata": {},
   "source": [
    "b) Class-Based Views (CBVs):\n"
   ]
  },
  {
   "cell_type": "code",
   "execution_count": null,
   "id": "c0fb89bc-45f9-470a-a4b8-0d64bac3a1c6",
   "metadata": {},
   "outputs": [],
   "source": [
    "from rest_framework.views import APIView\n",
    "from rest_framework.response import Response\n",
    "from rest_framework import status\n",
    "from .models import Book\n",
    "from .serializers import BookSerializer\n",
    "\n",
    "class BookList(APIView):\n",
    "    def get(self, request):\n",
    "        books = Book.objects.all()\n",
    "        serializer = BookSerializer(books, many=True)\n",
    "        return Response(serializer.data)\n",
    "\n",
    "    def post(self, request):\n",
    "        serializer = BookSerializer(data=request.data)\n",
    "        if serializer.is_valid():\n",
    "            serializer.save()\n",
    "            return Response(serializer.data, status=status.HTTP_201_CREATED)\n",
    "        return Response(serializer.errors, status=status.HTTP_400_BAD_REQUEST)\n"
   ]
  },
  {
   "cell_type": "markdown",
   "id": "0708e9aa-5b80-4d71-9645-c07e40442f6b",
   "metadata": {},
   "source": [
    "### Define URLs:"
   ]
  },
  {
   "cell_type": "code",
   "execution_count": null,
   "id": "b0ac967c-b65f-40ca-bc02-4ed76ab7b0b6",
   "metadata": {},
   "outputs": [],
   "source": [
    "# urls.py\n",
    "from django.urls import path\n",
    "from .views import book_list, book_detail\n",
    "\n",
    "urlpatterns = [\n",
    "    path('books/', book_list, name='book-list'),\n",
    "    path('books/<int:pk>/', book_detail, name='book-detail'),\n",
    "]\n"
   ]
  },
  {
   "cell_type": "markdown",
   "id": "25a207d4-5e53-4b3d-8615-f44126f2c79c",
   "metadata": {},
   "source": [
    "### 4. Advanced API Development\n",
    "Using Generic Views\n",
    "\n",
    "DRF provides generic views to handle common patterns."
   ]
  },
  {
   "cell_type": "code",
   "execution_count": null,
   "id": "85aaeca0-bca6-417f-be20-b46a599f2dad",
   "metadata": {},
   "outputs": [],
   "source": [
    "from rest_framework import generics\n",
    "from .models import Book\n",
    "from .serializers import BookSerializer\n",
    "\n",
    "class BookListCreateView(generics.ListCreateAPIView):\n",
    "    queryset = Book.objects.all()\n",
    "    serializer_class = BookSerializer\n",
    "\n",
    "class BookRetrieveUpdateDeleteView(generics.RetrieveUpdateDestroyAPIView):\n",
    "    queryset = Book.objects.all()\n",
    "    serializer_class = BookSerializer\n"
   ]
  },
  {
   "cell_type": "markdown",
   "id": "898be376-1e24-4a62-9af6-b2497e0d78c0",
   "metadata": {},
   "source": [
    "update urls.py "
   ]
  },
  {
   "cell_type": "code",
   "execution_count": null,
   "id": "6f4eb49a-06b7-40d5-87c0-fcd3c8d6ace3",
   "metadata": {},
   "outputs": [],
   "source": [
    "from django.urls import path\n",
    "from .views import BookListCreateView, BookRetrieveUpdateDeleteView\n",
    "\n",
    "urlpatterns = [\n",
    "    path('books/', BookListCreateView.as_view(), name='book-list-create'),\n",
    "    path('books/<int:pk>/', BookRetrieveUpdateDeleteView.as_view(), name='book-retrieve-update-delete'),\n",
    "]\n"
   ]
  },
  {
   "cell_type": "markdown",
   "id": "7a5c51ad-07e2-4608-be73-5b1084bda298",
   "metadata": {},
   "source": [
    "### ViewSets and Routers\n",
    "ViewSets combine logic for listing, creating, retrieving, updating, and deleting into one class."
   ]
  },
  {
   "cell_type": "code",
   "execution_count": null,
   "id": "ab0e3cd5-0745-4883-81a3-995311534594",
   "metadata": {},
   "outputs": [],
   "source": [
    "from rest_framework import viewsets\n",
    "from .models import Book\n",
    "from .serializers import BookSerializer\n",
    "\n",
    "class BookViewSet(viewsets.ModelViewSet):\n",
    "    queryset = Book.objects.all()\n",
    "    serializer_class = BookSerializer\n"
   ]
  },
  {
   "cell_type": "markdown",
   "id": "95ab3760-fabf-4149-8556-be7c1c5b9ba0",
   "metadata": {},
   "source": [
    "Define a router in urls.py:"
   ]
  },
  {
   "cell_type": "code",
   "execution_count": null,
   "id": "47e2cd50-4d23-4dc3-b58d-e4efde0c0db2",
   "metadata": {},
   "outputs": [],
   "source": [
    "from rest_framework.routers import DefaultRouter\n",
    "from .views import BookViewSet\n",
    "\n",
    "router = DefaultRouter()\n",
    "router.register(r'books', BookViewSet)\n",
    "\n",
    "urlpatterns = router.urls\n"
   ]
  },
  {
   "cell_type": "markdown",
   "id": "cb954ded-0108-45cf-809d-dd2aef5cc882",
   "metadata": {},
   "source": [
    "### 5. Adding Pagination\n",
    "DRF provides built-in support for pagination.\n",
    "\n",
    "Enable Pagination:"
   ]
  },
  {
   "cell_type": "code",
   "execution_count": null,
   "id": "a168dcf5-a15b-429b-acdf-040516638faf",
   "metadata": {},
   "outputs": [],
   "source": [
    "# settings.py\n",
    "REST_FRAMEWORK = {\n",
    "    'DEFAULT_PAGINATION_CLASS': 'rest_framework.pagination.PageNumberPagination',\n",
    "    'PAGE_SIZE': 10,\n",
    "}\n"
   ]
  },
  {
   "cell_type": "markdown",
   "id": "03e47051-942d-48a1-a52c-bda806f1138e",
   "metadata": {},
   "source": [
    "## 6. Authentication and Permissions\n",
    "Authentication:\n",
    "\n",
    "DRF supports several authentication methods:\n",
    "\n",
    "SessionAuthentication (default)\n",
    "\n",
    "TokenAuthentication\n",
    "\n",
    "JWT (JSON Web Token)\n",
    "Enable Token Authentication:"
   ]
  },
  {
   "cell_type": "code",
   "execution_count": null,
   "id": "40be76b9-bfb0-414f-a588-9ac3e5fbae0f",
   "metadata": {},
   "outputs": [],
   "source": [
    "pip install djangorestframework-simplejwt\n"
   ]
  },
  {
   "cell_type": "code",
   "execution_count": null,
   "id": "fbcd0b33-365e-4517-820e-94fd8934256c",
   "metadata": {},
   "outputs": [],
   "source": [
    "# Update settings.py:\n",
    "REST_FRAMEWORK = {\n",
    "    'DEFAULT_AUTHENTICATION_CLASSES': [\n",
    "        'rest_framework_simplejwt.authentication.JWTAuthentication',\n",
    "    ],\n",
    "}\n"
   ]
  },
  {
   "cell_type": "markdown",
   "id": "6d9823fe-b0ae-40a1-9f3e-74ae7812a16b",
   "metadata": {},
   "source": [
    "Update urls.py to include token endpoints:"
   ]
  },
  {
   "cell_type": "code",
   "execution_count": null,
   "id": "227b745a-f13e-4d7a-923c-fc93354182f2",
   "metadata": {},
   "outputs": [],
   "source": [
    "from rest_framework_simplejwt.views import TokenObtainPairView, TokenRefreshView\n",
    "\n",
    "urlpatterns += [\n",
    "    path('api/token/', TokenObtainPairView.as_view(), name='token_obtain_pair'),\n",
    "    path('api/token/refresh/', TokenRefreshView.as_view(), name='token_refresh'),\n",
    "]\n"
   ]
  },
  {
   "cell_type": "markdown",
   "id": "42e6e1e1-1e11-4aba-9f93-0cb492a34979",
   "metadata": {},
   "source": [
    "## Permissions:\n",
    "DRF permissions control access to views."
   ]
  },
  {
   "cell_type": "code",
   "execution_count": null,
   "id": "645ad61e-8915-4c0e-826f-4a2b6723b8c6",
   "metadata": {},
   "outputs": [],
   "source": [
    "from rest_framework.permissions import IsAuthenticated\n",
    "\n",
    "class BookListCreateView(generics.ListCreateAPIView):\n",
    "    queryset = Book.objects.all()\n",
    "    serializer_class = BookSerializer\n",
    "    permission_classes = [IsAuthenticated]\n"
   ]
  },
  {
   "cell_type": "markdown",
   "id": "673cfe82-c95a-4a82-a44b-8999c5481932",
   "metadata": {},
   "source": [
    "## 7. Testing APIs\n",
    "Install Postman or Use Curl\n",
    "\n",
    "Use tools like Postman or curl to test your API endpoints.\n",
    "\n",
    "Example curl command:"
   ]
  },
  {
   "cell_type": "code",
   "execution_count": null,
   "id": "557802d6-2ed5-4f97-bf57-dd107f01d25c",
   "metadata": {},
   "outputs": [],
   "source": [
    "curl -X GET http://127.0.0.1:8000/books/\n"
   ]
  }
 ],
 "metadata": {
  "kernelspec": {
   "display_name": "Python 3 (ipykernel)",
   "language": "python",
   "name": "python3"
  },
  "language_info": {
   "codemirror_mode": {
    "name": "ipython",
    "version": 3
   },
   "file_extension": ".py",
   "mimetype": "text/x-python",
   "name": "python",
   "nbconvert_exporter": "python",
   "pygments_lexer": "ipython3",
   "version": "3.12.2"
  }
 },
 "nbformat": 4,
 "nbformat_minor": 5
}

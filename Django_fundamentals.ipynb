{
 "cells": [
  {
   "cell_type": "markdown",
   "id": "d2a9c3e5-69e5-4ef6-8226-7e7342115adb",
   "metadata": {},
   "source": [
    "# Django Architecture:"
   ]
  },
  {
   "cell_type": "markdown",
   "id": "115566c2-f778-48d6-9d69-b74c69339aa3",
   "metadata": {},
   "source": [
    "Django follows the Model-View-Template (MVT) pattern, which is similar to the Model-View-Controller (MVC) pattern. Here's a breakdown of each component:\n",
    "\n",
    "Model: Represents the data structure of your application. In Django, models are Python classes that define the structure of database tables and the relationships between them.\n",
    "\n",
    "View: Handles the request-response cycle. Views are Python functions or classes that receive HTTP requests and return HTTP responses. Views interact with models to fetch or manipulate data and then pass that data to templates for rendering.\n",
    "\n",
    "Template: Defines the presentation layer of your application. Templates are HTML files that contain placeholders and template tags to dynamically generate HTML content based on data provided by views."
   ]
  },
  {
   "cell_type": "markdown",
   "id": "d065c626-d453-457c-a0a6-717002f7307b",
   "metadata": {},
   "source": [
    "## Models:\n",
    "Models represent the data structure of your application and are defined in the models.py file of each Django app. Let's create a simple model for a blog post:"
   ]
  },
  {
   "cell_type": "code",
   "execution_count": null,
   "id": "7559c6e6-5a1c-485c-94b1-19f0f44bca38",
   "metadata": {},
   "outputs": [],
   "source": [
    "# models.py\n",
    "\n",
    "from django.db import models\n",
    "\n",
    "class Post(models.Model):\n",
    "    title = models.CharField(max_length=100)\n",
    "    content = models.TextField()\n",
    "    author = models.ForeignKey('Author', on_delete=models.CASCADE)\n",
    "    created_at = models.DateTimeField(auto_now_add=True)\n",
    "\n",
    "    def __str__(self):\n",
    "        return self.title\n",
    "\n",
    "class Author(models.Model):\n",
    "    name = models.CharField(max_length=50)\n",
    "\n",
    "    def __str__(self):\n",
    "        return self.name\n"
   ]
  },
  {
   "cell_type": "markdown",
   "id": "87eda61c-7c04-4f2c-9702-7cd876aaa9a4",
   "metadata": {},
   "source": [
    "In this example:\n",
    "\n",
    "We define two models: Post and Author.\n",
    "\n",
    "Post model has fields for title, content, author, and creation date.\n",
    "\n",
    "Author model has a single field for the author's name.\n",
    "\n",
    "We use ForeignKey to establish a many-to-one relationship between Post and Author"
   ]
  },
  {
   "cell_type": "markdown",
   "id": "a3772904-a7dc-41e5-bd00-a582b72fb1ba",
   "metadata": {},
   "source": [
    "## Views:\n",
    "Views handle HTTP requests and return HTTP responses. Views are defined in the views.py file of each Django app. Let's create views for listing blog posts and displaying individual posts:"
   ]
  },
  {
   "cell_type": "code",
   "execution_count": null,
   "id": "483eeb1a-aad1-4c70-9e1a-5cc1c09a5ba0",
   "metadata": {},
   "outputs": [],
   "source": [
    "# views.py\n",
    "\n",
    "from django.shortcuts import render, get_object_or_404\n",
    "from .models import Post\n",
    "\n",
    "def post_list(request):\n",
    "    posts = Post.objects.all()\n",
    "    return render(request, 'blog/post_list.html', {'posts': posts})\n",
    "\n",
    "def post_detail(request, pk):\n",
    "    post = get_object_or_404(Post, pk=pk)\n",
    "    return render(request, 'blog/post_detail.html', {'post': post})\n"
   ]
  },
  {
   "cell_type": "markdown",
   "id": "629d39c7-5743-46ba-921c-ac24b4c87ba8",
   "metadata": {},
   "source": [
    "In this example:\n",
    "\n",
    "We define two views: post_list and post_detail.\n",
    "\n",
    "post_list retrieves all blog posts from the database and passes them to the post_list.html template.\n",
    "\n",
    "post_detail retrieves a specific blog post based on its primary key (pk) and passes it to the post_detail.html template."
   ]
  },
  {
   "cell_type": "markdown",
   "id": "33900f48-9a8d-4448-9df8-963710e89421",
   "metadata": {},
   "source": [
    "## Templates:\n",
    "\n",
    "Templates define the presentation layer of your application and are stored in the templates directory. Let's create templates for listing blog posts and displaying individual posts:"
   ]
  },
  {
   "cell_type": "code",
   "execution_count": null,
   "id": "03fd3595-e95f-4d67-bccf-f4050db427d2",
   "metadata": {},
   "outputs": [],
   "source": [
    "<!-- post_list.html -->\n",
    "\n",
    "<!DOCTYPE html>\n",
    "<html>\n",
    "<head>\n",
    "    <title>Blog</title>\n",
    "</head>\n",
    "<body>\n",
    "    <h1>Blog Posts</h1>\n",
    "    <ul>\n",
    "    {% for post in posts %}\n",
    "        <li><a href=\"{% url 'post_detail' pk=post.pk %}\">{{ post.title }}</a></li>\n",
    "    {% endfor %}\n",
    "    </ul>\n",
    "</body>\n",
    "</html>\n"
   ]
  },
  {
   "cell_type": "code",
   "execution_count": null,
   "id": "15a60115-1e45-4a07-bf55-f3afedf88cb0",
   "metadata": {},
   "outputs": [],
   "source": [
    "<!-- post_detail.html -->\n",
    "\n",
    "<!DOCTYPE html>\n",
    "<html>\n",
    "<head>\n",
    "    <title>{{ post.title }}</title>\n",
    "</head>\n",
    "<body>\n",
    "    <h1>{{ post.title }}</h1>\n",
    "    <p>{{ post.content }}</p>\n",
    "    <p>Author: {{ post.author.name }}</p>\n",
    "    <p>Created at: {{ post.created_at }}</p>\n",
    "</body>\n",
    "</html>\n"
   ]
  },
  {
   "cell_type": "markdown",
   "id": "7ab8e3dc-7c60-4e31-acda-08f26c50ad49",
   "metadata": {},
   "source": [
    "In these templates:\n",
    "\n",
    "post_list.html displays a list of blog posts with links to their individual detail pages.\n",
    "\n",
    "post_detail.html displays the details of a specific blog post including title, content, author, and creation date."
   ]
  },
  {
   "cell_type": "markdown",
   "id": "fd5877f5-178e-4eab-9276-41853bd26ac4",
   "metadata": {},
   "source": [
    "## URLs and Routing:\n",
    "\n",
    "To map URLs to views, we use URL patterns defined in the urls.py file of each Django app. Let's define URL patterns for the blog app:"
   ]
  },
  {
   "cell_type": "code",
   "execution_count": null,
   "id": "5c2c8166-58b7-4e2b-9eca-37dd5b8bb59f",
   "metadata": {},
   "outputs": [],
   "source": [
    "# urls.py\n",
    "\n",
    "from django.urls import path\n",
    "from . import views\n",
    "\n",
    "urlpatterns = [\n",
    "    path('', views.post_list, name='post_list'),\n",
    "    path('post/<int:pk>/', views.post_detail, name='post_detail'),\n",
    "]\n"
   ]
  },
  {
   "cell_type": "markdown",
   "id": "37e24b6d-f510-43be-b6eb-ed95e0a896cb",
   "metadata": {},
   "source": [
    "In this example:\n",
    "\n",
    "We define two URL patterns: one for listing blog posts ('') and one for displaying individual post details ('post/<int:pk>/').\n",
    "\n",
    "The <int:pk> part in the second URL pattern captures the primary key (pk) of the post to be displayed.\n",
    "\n",
    "With these components in place, you have a basic understanding of Django fundamentals and how they work together to build web applications."
   ]
  },
  {
   "cell_type": "code",
   "execution_count": null,
   "id": "176f8053-18c2-4af1-9c42-592cbf8d39f4",
   "metadata": {},
   "outputs": [],
   "source": []
  },
  {
   "cell_type": "code",
   "execution_count": null,
   "id": "a4caa92d-3ecc-45c2-9a7e-571923872465",
   "metadata": {},
   "outputs": [],
   "source": []
  }
 ],
 "metadata": {
  "kernelspec": {
   "display_name": "Python 3 (ipykernel)",
   "language": "python",
   "name": "python3"
  },
  "language_info": {
   "codemirror_mode": {
    "name": "ipython",
    "version": 3
   },
   "file_extension": ".py",
   "mimetype": "text/x-python",
   "name": "python",
   "nbconvert_exporter": "python",
   "pygments_lexer": "ipython3",
   "version": "3.12.2"
  }
 },
 "nbformat": 4,
 "nbformat_minor": 5
}

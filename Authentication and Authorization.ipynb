{
 "cells": [
  {
   "cell_type": "markdown",
   "id": "c9ae2a6c-6466-4bc3-ac9d-d2c0f6a4a543",
   "metadata": {},
   "source": [
    "# Authentication and Authorization\n",
    "\n",
    "Django provides a robust system for Authentication (verifying the identity of a user) and Authorization (determining what a user can do). This system helps secure web applications and is tightly integrated with Django's models and views.\n",
    "\n"
   ]
  },
  {
   "cell_type": "markdown",
   "id": "f4a8ec21-6a2c-4b00-b92d-3f938c0c0327",
   "metadata": {},
   "source": [
    "## 1. Understanding Authentication and Authorization\n",
    "\n",
    "Authentication: Confirming the identity of a user (e.g., login/logout functionality).\n",
    "\n",
    "Authorization: Managing permissions and determining if a user can perform specific actions.\n",
    "\n",
    "### Django includes:\n",
    "\n",
    "User Model: A default user model to manage users.\n",
    "\n",
    "Authentication Views: Login, logout, and password management.\n",
    "\n",
    "Permissions: Fine-grained control over user actions.\n",
    "\n",
    "Groups: Logical grouping of permissions for easier management"
   ]
  },
  {
   "cell_type": "markdown",
   "id": "18167557-2488-4aec-9d0e-bbe6c8a84aeb",
   "metadata": {},
   "source": [
    "# 2. Setting Up Authentication\n",
    "\n",
    "Basic User Model\n",
    "\n",
    "Django’s built-in User model is located in django.contrib.auth.models.\n",
    "\n",
    "Default fields in User:\n",
    "\n",
    "Username\n",
    "\n",
    "Password\n",
    "\n",
    "Email\n",
    "\n",
    "First Name\n",
    "\n",
    "Last Name\n",
    "\n",
    "Permissions and groups"
   ]
  },
  {
   "cell_type": "markdown",
   "id": "f3ae5998-bd3f-496c-9a7a-871f6e89cb9f",
   "metadata": {},
   "source": [
    "#### Registering Users\n",
    "\n",
    "Create a user registration system.\n",
    "\n",
    "#### Create a Registration Form\n",
    "\n",
    "Define a custom form for user registration:"
   ]
  },
  {
   "cell_type": "code",
   "execution_count": null,
   "id": "50529ce6-924c-4ede-92f1-dbc1418360c9",
   "metadata": {},
   "outputs": [],
   "source": [
    "# forms.py\n",
    "from django import forms\n",
    "from django.contrib.auth.models import User\n",
    "from django.contrib.auth.forms import UserCreationForm\n",
    "\n",
    "class RegistrationForm(UserCreationForm):\n",
    "    email = forms.EmailField(required=True)\n",
    "\n",
    "    class Meta:\n",
    "        model = User\n",
    "        fields = ['username', 'email', 'password1', 'password2']\n"
   ]
  },
  {
   "cell_type": "markdown",
   "id": "ccedc580-58b1-4374-a670-31833792b163",
   "metadata": {},
   "source": [
    "### Handle Registration in Views\n",
    "\n",
    "Use the form in a view to handle registration:"
   ]
  },
  {
   "cell_type": "code",
   "execution_count": null,
   "id": "45bb97f4-1265-469c-bc57-17f84f4c74c1",
   "metadata": {},
   "outputs": [],
   "source": [
    "# views.py\n",
    "from django.shortcuts import render, redirect\n",
    "from .forms import RegistrationForm\n",
    "\n",
    "def register(request):\n",
    "    if request.method == 'POST':\n",
    "        form = RegistrationForm(request.POST)\n",
    "        if form.is_valid():\n",
    "            form.save()\n",
    "            return redirect('login')  # Redirect to the login page\n",
    "    else:\n",
    "        form = RegistrationForm()\n",
    "\n",
    "    return render(request, 'register.html', {'form': form})\n"
   ]
  },
  {
   "cell_type": "markdown",
   "id": "91f48aa5-8050-433d-a9d4-726aa41f4c31",
   "metadata": {},
   "source": [
    "### Template for Registration\n",
    "Render the registration form in a template:"
   ]
  },
  {
   "cell_type": "code",
   "execution_count": null,
   "id": "f8eb4828-5968-42e5-99ba-826209f5756b",
   "metadata": {},
   "outputs": [],
   "source": [
    "<!-- register.html -->\n",
    "<!DOCTYPE html>\n",
    "<html>\n",
    "<head>\n",
    "    <title>Register</title>\n",
    "</head>\n",
    "<body>\n",
    "    <h2>Register</h2>\n",
    "    <form method=\"post\">\n",
    "        {% csrf_token %}\n",
    "        {{ form.as_p }}\n",
    "        <button type=\"submit\">Register</button>\n",
    "    </form>\n",
    "</body>\n",
    "</html>\n"
   ]
  },
  {
   "cell_type": "markdown",
   "id": "7cbca6e5-3a87-4f3d-8fd8-1cd49b83fecd",
   "metadata": {},
   "source": [
    "### Login and Logout\n",
    "\n",
    "Django's Built-in Authentication Views\n",
    "### Django provides built-in views for login and logout:\n",
    "\n",
    "LoginView: Handles user login.\n",
    "\n",
    "LogoutView: Handles user logout.\n",
    "\n",
    "Configure these views in urls.py:"
   ]
  },
  {
   "cell_type": "code",
   "execution_count": null,
   "id": "d0812654-8968-4937-bd3d-bf01220f8d04",
   "metadata": {},
   "outputs": [],
   "source": [
    "# urls.py\n",
    "from django.urls import path\n",
    "from django.contrib.auth.views import LoginView, LogoutView\n",
    "\n",
    "urlpatterns = [\n",
    "    path('login/', LoginView.as_view(template_name='login.html'), name='login'),\n",
    "    path('logout/', LogoutView.as_view(next_page='login'), name='logout'),\n",
    "]\n"
   ]
  },
  {
   "cell_type": "markdown",
   "id": "d03a3ace-06b4-4ec9-98a5-d44a63591da3",
   "metadata": {},
   "source": [
    "### Template for Login\n",
    "Create a login form:"
   ]
  },
  {
   "cell_type": "code",
   "execution_count": null,
   "id": "bac7d360-e25f-4a05-8932-67dc713644b0",
   "metadata": {},
   "outputs": [],
   "source": [
    "<!-- login.html -->\n",
    "<!DOCTYPE html>\n",
    "<html>\n",
    "<head>\n",
    "    <title>Login</title>\n",
    "</head>\n",
    "<body>\n",
    "    <h2>Login</h2>\n",
    "    <form method=\"post\">\n",
    "        {% csrf_token %}\n",
    "        {{ form.as_p }}\n",
    "        <button type=\"submit\">Login</button>\n",
    "    </form>\n",
    "</body>\n",
    "</html>\n"
   ]
  },
  {
   "cell_type": "markdown",
   "id": "01fe6251-8be8-4aa3-b063-b9f3c1c81ebd",
   "metadata": {},
   "source": [
    "### Redirect After Login\n",
    "Set the default redirect location:"
   ]
  },
  {
   "cell_type": "code",
   "execution_count": null,
   "id": "bd8009e6-4e0d-4e3f-bccd-1e531aa4e89b",
   "metadata": {},
   "outputs": [],
   "source": [
    "# settings.py\n",
    "LOGIN_REDIRECT_URL = '/'  # Redirect after login\n",
    "LOGOUT_REDIRECT_URL = '/login/'  # Redirect after logout\n"
   ]
  },
  {
   "cell_type": "markdown",
   "id": "3ef7bfcb-671e-41c3-b61a-e394e14c624f",
   "metadata": {},
   "source": [
    "### 3. Managing Permissions\n",
    "Permissions determine what actions a user can perform.\n",
    "\n",
    "\n",
    "Assigning Permissions\n",
    "\n",
    "Permissions are automatically created for models (add, change, delete, view).\n",
    "\n",
    "Use Django Admin to assign permissions to users/groups.\n",
    "\n",
    "Checking Permissions in Views\n",
    "\n",
    "Use the @permission_required decorator:"
   ]
  },
  {
   "cell_type": "code",
   "execution_count": null,
   "id": "936602cb-0fb6-4290-926c-283c96746ee6",
   "metadata": {},
   "outputs": [],
   "source": [
    "from django.contrib.auth.decorators import permission_required\n",
    "\n",
    "@permission_required('app_name.permission_code')\n",
    "def restricted_view(request):\n",
    "    return HttpResponse(\"You have permission!\")\n"
   ]
  },
  {
   "cell_type": "markdown",
   "id": "cf076574-ed35-4ac1-a22e-d0fdc2c99c5e",
   "metadata": {},
   "source": [
    "### 4. User Groups\n",
    "\n",
    "Groups are collections of permissions that you can assign to multiple users.\n",
    "\n",
    "Creating and Assigning Groups\n",
    "\n",
    "a) Create Groups via Admin Panel\n",
    "\n",
    "\n",
    "Navigate to Django Admin.\n",
    "Create a group and assign permissions.\n",
    "\n",
    "\n",
    "b) Assign Groups to Users\n",
    "Assign users to groups via the Admin panel or programmatically:"
   ]
  },
  {
   "cell_type": "code",
   "execution_count": null,
   "id": "0bb810c5-b42d-494c-9d55-31a85e7fb478",
   "metadata": {},
   "outputs": [],
   "source": [
    "from django.contrib.auth.models import Group, User\n",
    "\n",
    "group = Group.objects.get(name='Editors')\n",
    "user = User.objects.get(username='john_doe')\n",
    "user.groups.add(group)\n"
   ]
  },
  {
   "cell_type": "markdown",
   "id": "b8d99cae-fc7e-4270-b744-3061ce16f519",
   "metadata": {},
   "source": [
    "Check Group Membership"
   ]
  },
  {
   "cell_type": "code",
   "execution_count": null,
   "id": "728128a7-b91b-4d19-a520-9dcdc2d03283",
   "metadata": {},
   "outputs": [],
   "source": [
    "if request.user.groups.filter(name='Editors').exists():\n",
    "    print(\"User is in the Editors group!\")\n"
   ]
  },
  {
   "cell_type": "markdown",
   "id": "0f7400ef-17ce-457b-82ae-065a68a6de36",
   "metadata": {},
   "source": [
    "### 5. Using the LoginRequiredMixin\n",
    "Restrict views to authenticated users:"
   ]
  },
  {
   "cell_type": "code",
   "execution_count": null,
   "id": "cf15cc3f-5520-4fae-87e9-17996be36a9d",
   "metadata": {},
   "outputs": [],
   "source": [
    "from django.contrib.auth.mixins import LoginRequiredMixin\n",
    "from django.views.generic import TemplateView\n",
    "\n",
    "class DashboardView(LoginRequiredMixin, TemplateView):\n",
    "    template_name = 'dashboard.html'\n"
   ]
  },
  {
   "cell_type": "markdown",
   "id": "93f556e5-4ccc-4ea0-9a23-222e640391d5",
   "metadata": {},
   "source": [
    "For function-based views:"
   ]
  },
  {
   "cell_type": "code",
   "execution_count": null,
   "id": "093ee332-dd4d-4a6e-9a98-44705aa5d28c",
   "metadata": {},
   "outputs": [],
   "source": [
    "from django.contrib.auth.decorators import login_required\n",
    "\n",
    "@login_required\n",
    "def dashboard(request):\n",
    "    return render(request, 'dashboard.html')\n"
   ]
  },
  {
   "cell_type": "markdown",
   "id": "8b631cbd-c5d0-4668-98ff-1400757bdc92",
   "metadata": {},
   "source": [
    "### 6. Password Management\n",
    "Django provides built-in views for password management.\n",
    "\n",
    "Password Change\n",
    "\n",
    "Add the PasswordChangeView to urls.py:"
   ]
  },
  {
   "cell_type": "code",
   "execution_count": null,
   "id": "9c890d00-9423-4cdf-ae93-0e3a643dde75",
   "metadata": {},
   "outputs": [],
   "source": [
    "from django.contrib.auth.views import PasswordChangeView\n",
    "\n",
    "urlpatterns = [\n",
    "    path('password_change/', PasswordChangeView.as_view(template_name='password_change.html'), name='password_change'),\n",
    "]\n"
   ]
  },
  {
   "cell_type": "markdown",
   "id": "e7406295-7b58-488e-b2f7-8d5976ba00b3",
   "metadata": {},
   "source": [
    "### Password Reset\n",
    "Django provides a full password reset workflow. Add these views to urls.py:"
   ]
  },
  {
   "cell_type": "code",
   "execution_count": null,
   "id": "1f9d0de0-c931-4dc1-aecb-64450ae62e76",
   "metadata": {},
   "outputs": [],
   "source": [
    "from django.contrib.auth import views as auth_views\n",
    "\n",
    "urlpatterns += [\n",
    "    path('password_reset/', auth_views.PasswordResetView.as_view(), name='password_reset'),\n",
    "    path('password_reset_done/', auth_views.PasswordResetDoneView.as_view(), name='password_reset_done'),\n",
    "    path('reset/<uidb64>/<token>/', auth_views.PasswordResetConfirmView.as_view(), name='password_reset_confirm'),\n",
    "    path('reset_done/', auth_views.PasswordResetCompleteView.as_view(), name='password_reset_complete'),\n",
    "]\n"
   ]
  },
  {
   "cell_type": "markdown",
   "id": "d7f404d0-234f-45a2-b576-6a00ca1568ba",
   "metadata": {},
   "source": [
    "### 7. Customizing the User Model\n",
    "If the default User model doesn't meet your needs, you can create a custom user model.\n",
    "\n",
    "Define a Custom User Model"
   ]
  },
  {
   "cell_type": "code",
   "execution_count": null,
   "id": "3ab229b6-34b0-400e-b7ff-f7c2e8d50530",
   "metadata": {},
   "outputs": [],
   "source": [
    "from django.contrib.auth.models import AbstractUser\n",
    "from django.db import models\n",
    "\n",
    "class CustomUser(AbstractUser):\n",
    "    phone_number = models.CharField(max_length=15, blank=True, null=True)\n"
   ]
  },
  {
   "cell_type": "markdown",
   "id": "0118493f-c14b-430d-aa54-e0dfa1fc07be",
   "metadata": {},
   "source": [
    "Update Settings"
   ]
  },
  {
   "cell_type": "code",
   "execution_count": null,
   "id": "156e437f-3662-467a-8a1b-d540ce6e70f2",
   "metadata": {},
   "outputs": [],
   "source": [
    "# settings.py\n",
    "AUTH_USER_MODEL = 'your_app.CustomUser'\n"
   ]
  },
  {
   "cell_type": "markdown",
   "id": "75285ab0-8b3b-48e4-82e1-2d92691c3b81",
   "metadata": {},
   "source": [
    "### Create Forms for the Custom User"
   ]
  },
  {
   "cell_type": "code",
   "execution_count": null,
   "id": "6bba598d-ea67-4f53-b3d0-ba187cc2cd23",
   "metadata": {},
   "outputs": [],
   "source": [
    "from django.contrib.auth.forms import UserCreationForm\n",
    "from .models import CustomUser\n",
    "\n",
    "class CustomUserCreationForm(UserCreationForm):\n",
    "    class Meta:\n",
    "        model = CustomUser\n",
    "        fields = ['username', 'email', 'phone_number']\n"
   ]
  },
  {
   "cell_type": "code",
   "execution_count": null,
   "id": "41a99518-e6e7-466d-9f6f-aa95afc7c833",
   "metadata": {},
   "outputs": [],
   "source": []
  },
  {
   "cell_type": "code",
   "execution_count": null,
   "id": "ecc3e514-caef-4f03-b96f-50d6708821dd",
   "metadata": {},
   "outputs": [],
   "source": []
  },
  {
   "cell_type": "code",
   "execution_count": null,
   "id": "115b6ade-e5a9-4f83-8605-ee7c2b215133",
   "metadata": {},
   "outputs": [],
   "source": []
  }
 ],
 "metadata": {
  "kernelspec": {
   "display_name": "Python 3 (ipykernel)",
   "language": "python",
   "name": "python3"
  },
  "language_info": {
   "codemirror_mode": {
    "name": "ipython",
    "version": 3
   },
   "file_extension": ".py",
   "mimetype": "text/x-python",
   "name": "python",
   "nbconvert_exporter": "python",
   "pygments_lexer": "ipython3",
   "version": "3.12.2"
  }
 },
 "nbformat": 4,
 "nbformat_minor": 5
}

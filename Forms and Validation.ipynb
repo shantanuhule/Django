{
 "cells": [
  {
   "cell_type": "markdown",
   "id": "8bb1f3a6-c44f-48e0-95ce-71df23f5b709",
   "metadata": {},
   "source": [
    "Django provides a powerful and flexible framework for creating and validating forms. \n",
    "Understanding forms and validation is crucial for building dynamic web applications that handle user input securely and effectively."
   ]
  },
  {
   "cell_type": "markdown",
   "id": "189d63db-00eb-41e9-a8ae-bc43ccdd1651",
   "metadata": {},
   "source": [
    "### What Are Forms in Django?\n",
    "\n",
    "Django forms are Python classes that represent an HTML form. They allow you to define input fields, validate user input, and process data efficiently. Django provides:\n",
    "\n",
    "Built-in form handling for user input.\n",
    "Validation mechanisms to ensure secure and accurate data handling."
   ]
  },
  {
   "cell_type": "markdown",
   "id": "852b6bc6-d127-4ba8-a0b4-14e09cb09202",
   "metadata": {},
   "source": [
    "## Creating and Using Forms\n",
    "\n",
    "### 1. Creating a Basic Form\n",
    "\n",
    "Define a form in forms.py:"
   ]
  },
  {
   "cell_type": "code",
   "execution_count": null,
   "id": "6d742907-59dd-48cd-838a-23f3cda7c18d",
   "metadata": {},
   "outputs": [],
   "source": [
    "# forms.py\n",
    "from django import forms\n",
    "\n",
    "class ContactForm(forms.Form):\n",
    "    name = forms.CharField(max_length=100, label=\"Your Name\")\n",
    "    email = forms.EmailField(label=\"Your Email\")\n",
    "    message = forms.CharField(widget=forms.Textarea, label=\"Message\")\n"
   ]
  },
  {
   "cell_type": "markdown",
   "id": "450b8574-f9cc-49be-92e0-2d966dfd871a",
   "metadata": {},
   "source": [
    "Fields: Each field (e.g., CharField, EmailField) corresponds to an HTML input element.\n",
    "\n",
    "Attributes:\n",
    "\n",
    "max_length: Maximum number of characters for the field.\n",
    "\n",
    "widget: Specifies the HTML widget (e.g., textarea).\n",
    "\n",
    "label: Customizes the field's label in the form."
   ]
  },
  {
   "cell_type": "markdown",
   "id": "ded6c22b-bd4c-4dcb-8e41-d40eadb951f3",
   "metadata": {},
   "source": [
    "### 2. Rendering the Form in a View\n",
    "\n",
    "Use the form in a Django view:"
   ]
  },
  {
   "cell_type": "code",
   "execution_count": null,
   "id": "b4df4cc9-d761-4eb2-b847-d9e4c18bb22b",
   "metadata": {},
   "outputs": [],
   "source": [
    "# views.py\n",
    "from django.shortcuts import render\n",
    "from .forms import ContactForm\n",
    "\n",
    "def contact_view(request):\n",
    "    if request.method == 'POST':\n",
    "        form = ContactForm(request.POST)\n",
    "        if form.is_valid():\n",
    "            # Process form data\n",
    "            print(form.cleaned_data)\n",
    "    else:\n",
    "        form = ContactForm()\n",
    "\n",
    "    return render(request, 'contact.html', {'form': form})\n"
   ]
  },
  {
   "cell_type": "markdown",
   "id": "9b7606a9-c546-4869-9778-78b552c3182b",
   "metadata": {},
   "source": [
    "request.POST: Contains data submitted via POST.\n",
    "\n",
    "form.is_valid(): Checks if the form passes validation.\n",
    "\n",
    "form.cleaned_data: Dictionary of valid form data."
   ]
  },
  {
   "cell_type": "markdown",
   "id": "d1f37e4d-9c97-4f8e-85dc-684158fda9a1",
   "metadata": {},
   "source": [
    "### 3. Rendering the Form in a Template\n",
    "\n",
    "Render the form using the template language:"
   ]
  },
  {
   "cell_type": "code",
   "execution_count": null,
   "id": "e0821cb4-54b6-4cb2-b41b-d1cb8fbe6fcd",
   "metadata": {},
   "outputs": [],
   "source": [
    "<!-- templates/contact.html -->\n",
    "<!DOCTYPE html>\n",
    "<html>\n",
    "<head>\n",
    "    <title>Contact Us</title>\n",
    "</head>\n",
    "<body>\n",
    "    <h1>Contact Us</h1>\n",
    "    <form method=\"post\">\n",
    "        {% csrf_token %}\n",
    "        {{ form.as_p }}\n",
    "        <button type=\"submit\">Send</button>\n",
    "    </form>\n",
    "</body>\n",
    "</html>\n"
   ]
  },
  {
   "cell_type": "markdown",
   "id": "f42d60d8-cc07-404c-a2e6-bcb415449930",
   "metadata": {},
   "source": [
    "{% csrf_token %}: Protects against Cross-Site Request Forgery.\n",
    "\n",
    "form.as_p: Renders the form fields as <p> elements"
   ]
  },
  {
   "cell_type": "markdown",
   "id": "0bd6ce99-d305-4846-8bbe-36fca582d2d6",
   "metadata": {},
   "source": [
    "## Customizing Forms\n",
    "\n",
    "### 1. Adding CSS Classes\n",
    "You can add custom CSS classes or attributes to fields:"
   ]
  },
  {
   "cell_type": "code",
   "execution_count": null,
   "id": "e040a3ab-3e7b-46a3-be40-376de9867211",
   "metadata": {},
   "outputs": [],
   "source": [
    "# forms.py\n",
    "class ContactForm(forms.Form):\n",
    "    name = forms.CharField(\n",
    "        max_length=100,\n",
    "        widget=forms.TextInput(attrs={'class': 'form-control', 'placeholder': 'Enter your name'})\n",
    "    )\n",
    "    email = forms.EmailField(\n",
    "        widget=forms.EmailInput(attrs={'class': 'form-control', 'placeholder': 'Enter your email'})\n",
    "    )\n",
    "    message = forms.CharField(\n",
    "        widget=forms.Textarea(attrs={'class': 'form-control', 'rows': 5, 'placeholder': 'Your message'})\n",
    "    )\n"
   ]
  },
  {
   "cell_type": "markdown",
   "id": "4c07bfa0-cb11-4215-8362-bd3b56d3c048",
   "metadata": {},
   "source": [
    "### 2. Customizing Labels and Help Text\n",
    "\n",
    "Add labels or help text for better user guidance:"
   ]
  },
  {
   "cell_type": "code",
   "execution_count": null,
   "id": "eea5fe50-806b-430e-aca5-55301105fe2c",
   "metadata": {},
   "outputs": [],
   "source": [
    "class ContactForm(forms.Form):\n",
    "    name = forms.CharField(label=\"Full Name\", help_text=\"Enter your full name\")\n",
    "    email = forms.EmailField(label=\"Email Address\", help_text=\"We'll never share your email.\")\n",
    "    message = forms.CharField(label=\"Message\", widget=forms.Textarea, help_text=\"Enter your message.\")\n"
   ]
  },
  {
   "cell_type": "markdown",
   "id": "35969499-09f9-4069-8bf4-23d1225d2643",
   "metadata": {},
   "source": [
    "## Form Validation\n",
    "\n",
    "Django provides multiple ways to validate form data.\n",
    "\n",
    "### 1. Built-in Validation\n",
    "\n",
    "Django fields come with built-in validation:\n",
    "\n",
    "EmailField ensures a valid email.\n",
    "CharField respects max_length.\n",
    "\n",
    "### 2. Custom Validation\n",
    "\n",
    "a) Field-Level Validation:\n",
    "\n",
    "Define a clean_fieldname method to validate a specific field."
   ]
  },
  {
   "cell_type": "code",
   "execution_count": null,
   "id": "afd127eb-273d-4d51-b3ce-604389399303",
   "metadata": {},
   "outputs": [],
   "source": [
    "class ContactForm(forms.Form):\n",
    "    email = forms.EmailField()\n",
    "    \n",
    "    def clean_email(self):\n",
    "        email = self.cleaned_data.get('email')\n",
    "        if not email.endswith('@example.com'):\n",
    "            raise forms.ValidationError(\"Email must be from @example.com domain.\")\n",
    "        return email\n"
   ]
  },
  {
   "cell_type": "markdown",
   "id": "c959a4f5-fa5e-47c2-b457-47b1029db107",
   "metadata": {},
   "source": [
    "### b) Form-Level Validation:\n",
    "\n",
    "Override the clean method to validate multiple fields together."
   ]
  },
  {
   "cell_type": "code",
   "execution_count": null,
   "id": "b9665013-3c31-4ca1-ac61-fc97eccf55a5",
   "metadata": {},
   "outputs": [],
   "source": [
    "class ContactForm(forms.Form):\n",
    "    name = forms.CharField(max_length=100)\n",
    "    email = forms.EmailField()\n",
    "    \n",
    "    def clean(self):\n",
    "        cleaned_data = super().clean()\n",
    "        name = cleaned_data.get('name')\n",
    "        email = cleaned_data.get('email')\n",
    "        \n",
    "        if \"admin\" in name.lower() and email.endswith(\"@example.com\"):\n",
    "            raise forms.ValidationError(\"Admin emails cannot use @example.com domain.\")\n"
   ]
  },
  {
   "cell_type": "markdown",
   "id": "531a3555-df9f-42e4-987e-9d1bd47937cb",
   "metadata": {},
   "source": [
    "### 3. Error Handling in Templates\n",
    "Display form errors"
   ]
  },
  {
   "cell_type": "code",
   "execution_count": null,
   "id": "c7a163af-017d-4693-b821-e47e952f5d19",
   "metadata": {},
   "outputs": [],
   "source": [
    "<form method=\"post\">\n",
    "    {% csrf_token %}\n",
    "    {% for field in form %}\n",
    "        <div>\n",
    "            {{ field.label_tag }} {{ field }}\n",
    "            {% if field.errors %}\n",
    "                <ul>\n",
    "                {% for error in field.errors %}\n",
    "                    <li>{{ error }}</li>\n",
    "                {% endfor %}\n",
    "                </ul>\n",
    "            {% endif %}\n",
    "        </div>\n",
    "    {% endfor %}\n",
    "    <button type=\"submit\">Submit</button>\n",
    "</form>\n"
   ]
  },
  {
   "cell_type": "markdown",
   "id": "8efb94e1-7e17-4fc3-aa4c-be2ffbab2a26",
   "metadata": {},
   "source": [
    "## Model Forms\n",
    "\n",
    "Model forms simplify creating forms tied to a database model.\n",
    "\n",
    "### 1. Creating a Model Form\n",
    "\n",
    "Define a model:"
   ]
  },
  {
   "cell_type": "code",
   "execution_count": null,
   "id": "87d0ab7b-d6d2-44dc-8f2c-ebbdf84d1b48",
   "metadata": {},
   "outputs": [],
   "source": [
    "# models.py\n",
    "from django.db import models\n",
    "\n",
    "class Contact(models.Model):\n",
    "    name = models.CharField(max_length=100)\n",
    "    email = models.EmailField()\n",
    "    message = models.TextField()\n"
   ]
  },
  {
   "cell_type": "markdown",
   "id": "944ec147-80ea-4cd7-ad68-857a64f1ee14",
   "metadata": {},
   "source": [
    "Create a form from the model:"
   ]
  },
  {
   "cell_type": "code",
   "execution_count": null,
   "id": "929f7998-4f0e-40d7-add3-3097cb66b2af",
   "metadata": {},
   "outputs": [],
   "source": [
    "# forms.py\n",
    "from django.forms import ModelForm\n",
    "from .models import Contact\n",
    "\n",
    "class ContactForm(ModelForm):\n",
    "    class Meta:\n",
    "        model = Contact\n",
    "        fields = ['name', 'email', 'message']\n"
   ]
  },
  {
   "cell_type": "markdown",
   "id": "b1ed8376-7d6e-487d-bb03-867e028b7101",
   "metadata": {},
   "source": [
    "### 2. Using the Model Form\n",
    "\n",
    "In the view:"
   ]
  },
  {
   "cell_type": "code",
   "execution_count": null,
   "id": "243ebdfb-68df-487d-b694-c10c5f6ab874",
   "metadata": {},
   "outputs": [],
   "source": [
    "# views.py\n",
    "from django.shortcuts import render\n",
    "from .forms import ContactForm\n",
    "\n",
    "def contact_view(request):\n",
    "    if request.method == 'POST':\n",
    "        form = ContactForm(request.POST)\n",
    "        if form.is_valid():\n",
    "            form.save()  # Saves the data to the database\n",
    "    else:\n",
    "        form = ContactForm()\n",
    "\n",
    "    return render(request, 'contact.html', {'form': form})\n"
   ]
  },
  {
   "cell_type": "markdown",
   "id": "60fc392e-ea79-4711-ab91-0849233b1b49",
   "metadata": {},
   "source": [
    "## Dynamic Formsets\n",
    "\n",
    "Django formsets allow managing multiple forms on a single page.\n",
    "\n",
    "Example: Dynamic Contact Forms"
   ]
  },
  {
   "cell_type": "code",
   "execution_count": null,
   "id": "c7d7c631-4a45-482c-9d24-1cea96cb6ad6",
   "metadata": {},
   "outputs": [],
   "source": [
    "from django.forms import formset_factory\n",
    "from .forms import ContactForm\n",
    "\n",
    "def contact_formset_view(request):\n",
    "    ContactFormSet = formset_factory(ContactForm, extra=2)  # 2 empty forms\n",
    "    formset = ContactFormSet()\n",
    "\n",
    "    return render(request, 'formset_example.html', {'formset': formset})\n"
   ]
  },
  {
   "cell_type": "markdown",
   "id": "d06f40b6-4216-4951-aa02-0d5f709a1a8c",
   "metadata": {},
   "source": [
    "# Summary:\n",
    "\n",
    "## Basic Forms:\n",
    "\n",
    "Defined using forms.Form.\n",
    "Handle user input and perform basic validation.\n",
    "Customization:\n",
    "\n",
    "Add custom attributes, labels, and help texts.\n",
    "Apply CSS classes for styling.\n",
    "\n",
    "## Validation:\n",
    "\n",
    "Use built-in or custom validation methods.\n",
    "Handle form-level and field-level validations.\n",
    "\n",
    "## Model Forms:\n",
    "\n",
    "Simplify form creation for models.\n",
    "Automatically map fields to database models.\n",
    "\n",
    "## Error Handling:\n",
    "\n",
    "Display errors dynamically in templates for better user feedback.\n",
    "By mastering forms and validation in Django, you can create robust, user-friendly web applications that securely handle input!"
   ]
  },
  {
   "cell_type": "code",
   "execution_count": null,
   "id": "1d14a930-5130-4f21-860a-1f8d8c0016db",
   "metadata": {},
   "outputs": [],
   "source": []
  }
 ],
 "metadata": {
  "kernelspec": {
   "display_name": "Python 3 (ipykernel)",
   "language": "python",
   "name": "python3"
  },
  "language_info": {
   "codemirror_mode": {
    "name": "ipython",
    "version": 3
   },
   "file_extension": ".py",
   "mimetype": "text/x-python",
   "name": "python",
   "nbconvert_exporter": "python",
   "pygments_lexer": "ipython3",
   "version": "3.12.2"
  }
 },
 "nbformat": 4,
 "nbformat_minor": 5
}

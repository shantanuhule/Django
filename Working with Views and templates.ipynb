{
 "cells": [
  {
   "cell_type": "markdown",
   "id": "5a3905d9-8ccc-4a7f-a884-17853c3c8446",
   "metadata": {},
   "source": [
    "# Working with Views and Functions:"
   ]
  },
  {
   "cell_type": "markdown",
   "id": "3a85c1ea-4545-4ca4-8411-8d499711f798",
   "metadata": {},
   "source": [
    "## What Are Views in Django?\n",
    "\n",
    "Views are the bridge between models and templates. They handle user requests, retrieve data from the database, and return a response (usually an HTML page or JSON).\n",
    "\n",
    "### Types of Views:\n",
    "## Function-Based Views (FBV):\n",
    "\n",
    "A view is written as a Python function."
   ]
  },
  {
   "cell_type": "code",
   "execution_count": null,
   "id": "670843df-e5a9-408a-948d-82cb4022ae0e",
   "metadata": {},
   "outputs": [],
   "source": [
    "from django.http import HttpResponse\n",
    "\n",
    "def hello_world(request):\n",
    "    return HttpResponse(\"Hello, World!\")\n"
   ]
  },
  {
   "cell_type": "markdown",
   "id": "786270c8-846c-4b8c-a19c-1d4b170fb957",
   "metadata": {},
   "source": [
    "## Class-Based Views (CBV):\n",
    "\n",
    "Views are written as Python classes.\n"
   ]
  },
  {
   "cell_type": "code",
   "execution_count": null,
   "id": "5cb23c3f-3e59-456d-a34d-fade31ceee8d",
   "metadata": {},
   "outputs": [],
   "source": [
    "from django.views import View\n",
    "from django.http import HttpResponse\n",
    "\n",
    "class HelloWorldView(View):\n",
    "    def get(self, request):\n",
    "        return HttpResponse(\"Hello, World!\")\n"
   ]
  },
  {
   "cell_type": "markdown",
   "id": "a9bb23f9-b2d7-4420-806d-e2ec35b13c09",
   "metadata": {},
   "source": [
    "## Setting Up Templates\n",
    "\n",
    "Templates in Django are HTML files with placeholders for dynamic data. They live in a directory named templates in your app or project.\n",
    "\n",
    "Steps:\n",
    "Create the Template Directory:\n",
    "\n",
    "In your Django app (e.g., blog), create a folder:"
   ]
  },
  {
   "cell_type": "code",
   "execution_count": null,
   "id": "7096926d-4c81-4bf0-9eb2-57897119de48",
   "metadata": {},
   "outputs": [],
   "source": [
    "blog/templates/blog/\n"
   ]
  },
  {
   "cell_type": "markdown",
   "id": "7cf11d1b-286c-4756-8bd8-6a5befd57920",
   "metadata": {},
   "source": [
    "## Configure Settings:\n",
    "\n",
    "Ensure TEMPLATES in settings.py includes the correct directory"
   ]
  },
  {
   "cell_type": "code",
   "execution_count": null,
   "id": "8a7a9c50-6376-4718-8d67-a78b066c0dfe",
   "metadata": {},
   "outputs": [],
   "source": [
    "TEMPLATES = [\n",
    "    {\n",
    "        'BACKEND': 'django.template.backends.django.DjangoTemplates',\n",
    "        'DIRS': [BASE_DIR / \"templates\"],  # Optional global templates folder\n",
    "        'APP_DIRS': True,\n",
    "        'OPTIONS': {\n",
    "            'context_processors': [\n",
    "                'django.template.context_processors.debug',\n",
    "                'django.template.context_processors.request',\n",
    "                'django.contrib.auth.context_processors.auth',\n",
    "                'django.contrib.messages.context_processors.messages',\n",
    "            ],\n",
    "        },\n",
    "    },\n",
    "]\n"
   ]
  },
  {
   "cell_type": "markdown",
   "id": "67f42e2e-0ec5-4f14-a998-8a7f347162ea",
   "metadata": {},
   "source": [
    "## Creating a Basic View and Template\n",
    "\n",
    "Example: Displaying a Greeting Message\n",
    "\n",
    "a) Create the View:\n"
   ]
  },
  {
   "cell_type": "code",
   "execution_count": null,
   "id": "efb124d8-3e91-4d83-81c0-39e4efae8652",
   "metadata": {},
   "outputs": [],
   "source": [
    "# views.py\n",
    "\n",
    "from django.shortcuts import render\n",
    "\n",
    "def greeting(request):\n",
    "    context = {\"message\": \"Welcome to Django!\"}\n",
    "    return render(request, 'blog/greeting.html', context)\n"
   ]
  },
  {
   "cell_type": "markdown",
   "id": "2698f765-8ecd-499e-922c-c83b188dc363",
   "metadata": {},
   "source": [
    "render: Combines a template with data (context) and returns an HttpResponse.\n",
    "\n",
    "\n",
    "context: A dictionary passed to the template for dynamic content.\n",
    "\n",
    "b) Create the Template:"
   ]
  },
  {
   "cell_type": "code",
   "execution_count": null,
   "id": "0d2180d0-66b6-4aae-997b-c5df8c02b6d8",
   "metadata": {},
   "outputs": [],
   "source": [
    "<!-- templates/blog/greeting.html -->\n",
    "\n",
    "<!DOCTYPE html>\n",
    "<html>\n",
    "<head>\n",
    "    <title>Greeting Page</title>\n",
    "</head>\n",
    "<body>\n",
    "    <h1>{{ message }}</h1>\n",
    "</body>\n",
    "</html>\n"
   ]
  },
  {
   "cell_type": "markdown",
   "id": "1db1bc8c-9d2c-41d5-922c-9cd480da36db",
   "metadata": {},
   "source": [
    "c) Add URL Mapping:"
   ]
  },
  {
   "cell_type": "code",
   "execution_count": null,
   "id": "b7027de7-23ed-44de-b5aa-d677b5df73d6",
   "metadata": {},
   "outputs": [],
   "source": [
    "# urls.py\n",
    "\n",
    "from django.urls import path\n",
    "from . import views\n",
    "\n",
    "urlpatterns = [\n",
    "    path('greeting/', views.greeting, name='greeting'),\n",
    "]\n"
   ]
  },
  {
   "cell_type": "markdown",
   "id": "5cdca1ed-1186-4eaa-b8be-7e353396963d",
   "metadata": {},
   "source": [
    "## Using Django Template Tags\n",
    "\n",
    "Template tags allow dynamic behavior in templates.\n",
    "\n",
    "Common Tags:\n",
    "Variable Output:\n",
    "\n",
    "Syntax: {{ variable }}\n",
    "Example"
   ]
  },
  {
   "cell_type": "code",
   "execution_count": null,
   "id": "32bad420-d50e-4649-a3ad-ced1c0040abf",
   "metadata": {},
   "outputs": [],
   "source": [
    "<p>User: {{ user.username }}</p>\n"
   ]
  },
  {
   "cell_type": "markdown",
   "id": "c8c15f11-2a6c-443e-a405-e4afec111497",
   "metadata": {},
   "source": [
    "### For Loop"
   ]
  },
  {
   "cell_type": "code",
   "execution_count": null,
   "id": "f1df5d5b-b422-4de2-bb8a-2afe6d2e7438",
   "metadata": {},
   "outputs": [],
   "source": [
    "{% for item in list %}\n",
    "    {{ item }}\n",
    "{% endfor %}\n"
   ]
  },
  {
   "cell_type": "markdown",
   "id": "952677ef-4996-45dd-b591-8e81820c2303",
   "metadata": {},
   "source": [
    "example"
   ]
  },
  {
   "cell_type": "code",
   "execution_count": null,
   "id": "0ce17c2e-a28b-4cbe-9017-041d93733dbf",
   "metadata": {},
   "outputs": [],
   "source": [
    "<ul>\n",
    "{% for post in posts %}\n",
    "    <li>{{ post.title }}</li>\n",
    "{% endfor %}\n",
    "</ul>\n"
   ]
  },
  {
   "cell_type": "markdown",
   "id": "08d813c2-b362-48b7-9f22-2f5df434e9fe",
   "metadata": {},
   "source": [
    "## If Conditions:"
   ]
  },
  {
   "cell_type": "code",
   "execution_count": null,
   "id": "b4f26481-b4b1-4fad-8c53-00a5f82417a4",
   "metadata": {},
   "outputs": [],
   "source": [
    "{% if condition %}\n",
    "    Do something\n",
    "{% elif other_condition %}\n",
    "    Do something else\n",
    "{% else %}\n",
    "    Do a default thing\n",
    "{% endif %}\n"
   ]
  },
  {
   "cell_type": "markdown",
   "id": "d4dd5a46-e998-4827-950a-701488707d4a",
   "metadata": {},
   "source": [
    "example"
   ]
  },
  {
   "cell_type": "code",
   "execution_count": null,
   "id": "5f19759b-94f6-4a1b-beac-606fbf388be3",
   "metadata": {},
   "outputs": [],
   "source": [
    "{% if user.is_authenticated %}\n",
    "    <p>Welcome, {{ user.username }}!</p>\n",
    "{% else %}\n",
    "    <p>Welcome, Guest!</p>\n",
    "{% endif %}\n"
   ]
  },
  {
   "cell_type": "markdown",
   "id": "87136537-bb0f-4bef-aa4c-c955058cabbc",
   "metadata": {},
   "source": [
    "## Static Files and Template Inheritance\n",
    "\n",
    "### a) Static Files:\n",
    "Static files (CSS, JavaScript, images) are served using Django's static file management.\n",
    "\n",
    "### Add Static Directory:\n",
    "\n",
    "Create a static folder in your app:\n",
    "\n"
   ]
  },
  {
   "cell_type": "code",
   "execution_count": null,
   "id": "242f20a3-312b-431d-91af-6a05866e6e65",
   "metadata": {},
   "outputs": [],
   "source": [
    "blog/static/blog/\n"
   ]
  },
  {
   "cell_type": "markdown",
   "id": "8d06e8bc-fd39-4b30-affe-2f3699be49a5",
   "metadata": {},
   "source": [
    "### Configure Settings:\n",
    "\n",
    "Ensure STATICFILES_DIRS is defined in settings.py"
   ]
  },
  {
   "cell_type": "code",
   "execution_count": null,
   "id": "bcb9e639-d2f1-40ec-b936-dad291309400",
   "metadata": {},
   "outputs": [],
   "source": [
    "STATIC_URL = '/static/'\n"
   ]
  },
  {
   "cell_type": "markdown",
   "id": "83a00884-eefd-42ee-9350-5b30eb0122a1",
   "metadata": {},
   "source": [
    "### Include Static Files in Templates:"
   ]
  },
  {
   "cell_type": "code",
   "execution_count": null,
   "id": "0d395b6b-ee7c-4772-933e-a0dae3137fb1",
   "metadata": {},
   "outputs": [],
   "source": [
    "{% load static %}\n",
    "<link rel=\"stylesheet\" href=\"{% static 'blog/style.css' %}\">\n"
   ]
  },
  {
   "cell_type": "markdown",
   "id": "82a4502b-e026-4746-b053-32f18ea4d54d",
   "metadata": {},
   "source": [
    "## Template Inheritance:\n",
    "\n",
    "Template inheritance reduces duplication by reusing common layouts.\n",
    "\n",
    "## Base Template"
   ]
  },
  {
   "cell_type": "code",
   "execution_count": null,
   "id": "ec1b8f89-75b4-41f4-85f6-bfd371cde85b",
   "metadata": {},
   "outputs": [],
   "source": [
    "<!-- templates/blog/base.html -->\n",
    "\n",
    "<!DOCTYPE html>\n",
    "<html>\n",
    "<head>\n",
    "    <title>{% block title %}My Blog{% endblock %}</title>\n",
    "</head>\n",
    "<body>\n",
    "    <header>\n",
    "        <h1>My Blog</h1>\n",
    "        <nav>\n",
    "            <a href=\"/\">Home</a>\n",
    "            <a href=\"/about/\">About</a>\n",
    "        </nav>\n",
    "    </header>\n",
    "\n",
    "    {% block content %}\n",
    "    <!-- Default content -->\n",
    "    {% endblock %}\n",
    "</body>\n",
    "</html>\n"
   ]
  },
  {
   "cell_type": "markdown",
   "id": "a7c3c948-62b9-4ec4-acbc-08ccfa660f73",
   "metadata": {},
   "source": [
    "#### Child Template:"
   ]
  },
  {
   "cell_type": "code",
   "execution_count": null,
   "id": "85a0732c-8c28-4c5d-a2d3-9678e7df3a94",
   "metadata": {},
   "outputs": [],
   "source": [
    "<!-- templates/blog/home.html -->\n",
    "\n",
    "{% extends \"blog/base.html\" %}\n",
    "\n",
    "{% block title %}Home{% endblock %}\n",
    "\n",
    "{% block content %}\n",
    "    <p>Welcome to the homepage!</p>\n",
    "{% endblock %}\n"
   ]
  },
  {
   "cell_type": "markdown",
   "id": "5820321b-6038-4bfd-906a-54f1f7384cd6",
   "metadata": {},
   "source": [
    "## Working with Forms in Views and Templates\n",
    "\n",
    "Django makes it easy to handle HTML forms with forms.py.\n",
    "\n",
    "Example: Simple Contact Form\n",
    "### a) Create a Form\n",
    "\n",
    "\n"
   ]
  },
  {
   "cell_type": "code",
   "execution_count": null,
   "id": "4ee1eeed-66c8-4f46-a591-077b68dfe61f",
   "metadata": {},
   "outputs": [],
   "source": [
    "# forms.py\n",
    "\n",
    "from django import forms\n",
    "\n",
    "class ContactForm(forms.Form):\n",
    "    name = forms.CharField(max_length=100)\n",
    "    email = forms.EmailField()\n",
    "    message = forms.CharField(widget=forms.Textarea)\n"
   ]
  },
  {
   "cell_type": "markdown",
   "id": "e77b236e-7bc9-440a-89de-69726ac1f8a6",
   "metadata": {},
   "source": [
    "### b) Handle the Form in Views:"
   ]
  },
  {
   "cell_type": "code",
   "execution_count": null,
   "id": "c9284fab-ffd7-4c6e-a95b-f6cd22519082",
   "metadata": {},
   "outputs": [],
   "source": [
    "# views.py\n",
    "\n",
    "from django.shortcuts import render\n",
    "from .forms import ContactForm\n",
    "\n",
    "def contact(request):\n",
    "    if request.method == 'POST':\n",
    "        form = ContactForm(request.POST)\n",
    "        if form.is_valid():\n",
    "            # Process form data\n",
    "            print(form.cleaned_data)\n",
    "    else:\n",
    "        form = ContactForm()\n",
    "\n",
    "    return render(request, 'blog/contact.html', {'form': form})\n"
   ]
  },
  {
   "cell_type": "markdown",
   "id": "f49bd850-ae8f-4c43-ac54-c0e9e985e5c5",
   "metadata": {},
   "source": [
    "### c) Create the Template:"
   ]
  },
  {
   "cell_type": "code",
   "execution_count": null,
   "id": "59b16356-5469-446e-bd4f-4e299789555f",
   "metadata": {},
   "outputs": [],
   "source": [
    "<!-- templates/blog/contact.html -->\n",
    "\n",
    "<!DOCTYPE html>\n",
    "<html>\n",
    "<head>\n",
    "    <title>Contact Us</title>\n",
    "</head>\n",
    "<body>\n",
    "    <h1>Contact Us</h1>\n",
    "    <form method=\"post\">\n",
    "        {% csrf_token %}\n",
    "        {{ form.as_p }}\n",
    "        <button type=\"submit\">Send</button>\n",
    "    </form>\n",
    "</body>\n",
    "</html>\n"
   ]
  },
  {
   "cell_type": "code",
   "execution_count": null,
   "id": "737a9034-5cb2-4f8a-b0db-859e1a23d01c",
   "metadata": {},
   "outputs": [],
   "source": [
    "{% csrf_token %}: Adds protection against Cross-Site Request Forgery.\n",
    "    \n",
    "form.as_p: Renders the form fields as <p> elements."
   ]
  },
  {
   "cell_type": "markdown",
   "id": "59395dc6-1912-4075-8835-f3a18c43550e",
   "metadata": {},
   "source": [
    "## Class-Based Views (CBVs)\n",
    "\n",
    "Class-Based Views provide reusable view logic.\n",
    "\n",
    "Example: ListView\n",
    "### a) Create a View:"
   ]
  },
  {
   "cell_type": "code",
   "execution_count": null,
   "id": "ad08062c-fbfa-45f8-b31a-fe92efedbaa9",
   "metadata": {},
   "outputs": [],
   "source": [
    "# views.py\n",
    "\n",
    "from django.views.generic import ListView\n",
    "from .models import Book\n",
    "\n",
    "class BookListView(ListView):\n",
    "    model = Book\n",
    "    template_name = 'blog/book_list.html'\n",
    "    context_object_name = 'books'\n"
   ]
  },
  {
   "cell_type": "markdown",
   "id": "13144cf0-c467-4936-84a7-1b2556e23d53",
   "metadata": {},
   "source": [
    "### b) Add URL Mapping:"
   ]
  },
  {
   "cell_type": "code",
   "execution_count": null,
   "id": "89eeeffe-8b5a-40a6-8ab6-b060d8e072e8",
   "metadata": {},
   "outputs": [],
   "source": [
    "# urls.py\n",
    "\n",
    "from .views import BookListView\n",
    "\n",
    "urlpatterns = [\n",
    "    path('books/', BookListView.as_view(), name='book_list'),\n",
    "]\n"
   ]
  },
  {
   "cell_type": "markdown",
   "id": "7d0a383f-359e-40e6-a353-6bc15fef767d",
   "metadata": {},
   "source": [
    "### c) Create Template:"
   ]
  },
  {
   "cell_type": "code",
   "execution_count": null,
   "id": "16e99c46-dd77-40b7-a0c0-9f11a5f04908",
   "metadata": {},
   "outputs": [],
   "source": [
    "<!-- templates/blog/book_list.html -->\n",
    "\n",
    "<h1>Books</h1>\n",
    "<ul>\n",
    "    {% for book in books %}\n",
    "        <li>{{ book.title }} by {{ book.author.name }}</li>\n",
    "    {% endfor %}\n",
    "</ul>\n"
   ]
  },
  {
   "cell_type": "markdown",
   "id": "45ff0280-fb18-46d7-881e-089ea021e57a",
   "metadata": {},
   "source": [
    "## Summary:\n",
    "\n",
    "### Views:\n",
    "\n",
    "FBVs for simple logic.\n",
    "CBVs for reusable, organized logic.\n",
    "\n",
    "### Templates:\n",
    "\n",
    "Use Django's template language for dynamic content.\n",
    "Employ template tags for loops, conditions, and static files.\n",
    "\n",
    "### Forms:\n",
    "\n",
    "Use Django's forms module to handle user input.\n",
    "\n",
    "### Template Inheritance:\n",
    "\n",
    "Create reusable layouts with base.html.\n",
    "By mastering these topics, you'll be ready to build dynamic, interactive web applications using Django views and templates!"
   ]
  },
  {
   "cell_type": "code",
   "execution_count": null,
   "id": "d07666ac-997c-4e1f-91fa-b3c020fc2a72",
   "metadata": {},
   "outputs": [],
   "source": []
  }
 ],
 "metadata": {
  "kernelspec": {
   "display_name": "Python 3 (ipykernel)",
   "language": "python",
   "name": "python3"
  },
  "language_info": {
   "codemirror_mode": {
    "name": "ipython",
    "version": 3
   },
   "file_extension": ".py",
   "mimetype": "text/x-python",
   "name": "python",
   "nbconvert_exporter": "python",
   "pygments_lexer": "ipython3",
   "version": "3.12.2"
  }
 },
 "nbformat": 4,
 "nbformat_minor": 5
}
